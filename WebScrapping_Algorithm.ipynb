{
 "cells": [
  {
   "cell_type": "code",
   "execution_count": null,
   "id": "00405009-0eb8-46d2-8934-44bc4519055b",
   "metadata": {},
   "outputs": [],
   "source": [
    "import requests\n",
    "from bs4 import BeautifulSoup"
   ]
  },
  {
   "cell_type": "markdown",
   "id": "963e6606-b92e-4813-9519-98adea0812bd",
   "metadata": {},
   "source": [
    "#       WebScrapping Algorithm\n",
    "   #####  This is a python algorithm that finds website with the format https://12696.portal.athenahealth.com/ and runs through the variations \n",
    "  ##### then pulls the practice name on the site into an excel file\r"
   ]
  },
  {
   "cell_type": "code",
   "execution_count": 39,
   "id": "64eece6c-9272-407d-8242-5e384b04f39a",
   "metadata": {},
   "outputs": [],
   "source": [
    "def get_clinic_name(clinic_id):\n",
    "    url         = f'https://{clinic_id}.portal.athenahealth.com/'\n",
    "    response    = requests.get(url)\n",
    "    html        = response.text\n",
    "    soup        = BeautifulSoup(html,'html.parser')\n",
    "    clinic_name = soup.find_all('h1')[-1].text.strip()\n",
    "    return clinic_name"
   ]
  },
  {
   "cell_type": "code",
   "execution_count": 49,
   "id": "58e96332-0420-4431-ad80-1c4888c8e19a",
   "metadata": {},
   "outputs": [],
   "source": [
    "start = 12690\n",
    "end   = 12710\n"
   ]
  },
  {
   "cell_type": "code",
   "execution_count": 113,
   "id": "0aa8cb68-b603-4391-ac84-14815bb3b73f",
   "metadata": {},
   "outputs": [
    {
     "name": "stdout",
     "output_type": "stream",
     "text": [
      "12690\n",
      "12691\n",
      "12692\n",
      "12693\n",
      "12694\n",
      "12695\n",
      "12696\n",
      "12697\n",
      "12698\n",
      "12699\n",
      "12700\n",
      "12701\n",
      "12702\n",
      "12703\n",
      "12704\n",
      "12705\n",
      "12706\n",
      "12707\n",
      "12708\n",
      "12709\n",
      "12710\n"
     ]
    }
   ],
   "source": [
    "my_list =[]\n",
    "for clinic_id in range(start,end+1):\n",
    "    data_dict = {}\n",
    "    data_dict['clinic_id'] = clinic_id\n",
    "    data_dict['clinic_name']= get_clinic_name(clinic_id)\n",
    "    if data_dict['clinic_name'] != 'Payment Confirmation ' and ['clinic_name'] != \"sorry, we can't find that practice.Make sure you typed the right address.\":\n",
    "       my_list.append(data_dict)\n",
    "    print(clinic_id)"
   ]
  },
  {
   "cell_type": "code",
   "execution_count": 114,
   "id": "e8f887aa-5329-4f6a-8061-4f4bde7c478e",
   "metadata": {},
   "outputs": [],
   "source": [
    "import pandas as pd"
   ]
  },
  {
   "cell_type": "code",
   "execution_count": 115,
   "id": "4684bbce-5b57-4cef-b997-95cdd1bae36b",
   "metadata": {},
   "outputs": [],
   "source": [
    "df = pd.DataFrame(my_list)"
   ]
  },
  {
   "cell_type": "code",
   "execution_count": 121,
   "id": "acfd0e00-eaa8-4d68-b895-cfb8ac91eba2",
   "metadata": {},
   "outputs": [
    {
     "data": {
      "text/html": [
       "<div>\n",
       "<style scoped>\n",
       "    .dataframe tbody tr th:only-of-type {\n",
       "        vertical-align: middle;\n",
       "    }\n",
       "\n",
       "    .dataframe tbody tr th {\n",
       "        vertical-align: top;\n",
       "    }\n",
       "\n",
       "    .dataframe thead th {\n",
       "        text-align: right;\n",
       "    }\n",
       "</style>\n",
       "<table border=\"1\" class=\"dataframe\">\n",
       "  <thead>\n",
       "    <tr style=\"text-align: right;\">\n",
       "      <th></th>\n",
       "      <th>clinic_id</th>\n",
       "      <th>clinic_name</th>\n",
       "    </tr>\n",
       "  </thead>\n",
       "  <tbody>\n",
       "    <tr>\n",
       "      <th>0</th>\n",
       "      <td>12690</td>\n",
       "      <td>Payment Confirmation</td>\n",
       "    </tr>\n",
       "    <tr>\n",
       "      <th>1</th>\n",
       "      <td>12691</td>\n",
       "      <td>Sorry, we can't find that practice. Make sure ...</td>\n",
       "    </tr>\n",
       "    <tr>\n",
       "      <th>2</th>\n",
       "      <td>12692</td>\n",
       "      <td>Sorry, we can't find that practice. Make sure ...</td>\n",
       "    </tr>\n",
       "    <tr>\n",
       "      <th>3</th>\n",
       "      <td>12693</td>\n",
       "      <td>Altamonte Family Practice</td>\n",
       "    </tr>\n",
       "    <tr>\n",
       "      <th>4</th>\n",
       "      <td>12694</td>\n",
       "      <td>Open Health Care Clinic</td>\n",
       "    </tr>\n",
       "    <tr>\n",
       "      <th>5</th>\n",
       "      <td>12695</td>\n",
       "      <td>Dr. Richard Handelsman</td>\n",
       "    </tr>\n",
       "    <tr>\n",
       "      <th>6</th>\n",
       "      <td>12696</td>\n",
       "      <td>Women's CenterforIntegrative Health</td>\n",
       "    </tr>\n",
       "    <tr>\n",
       "      <th>7</th>\n",
       "      <td>12697</td>\n",
       "      <td>Eastern Urological Associates</td>\n",
       "    </tr>\n",
       "    <tr>\n",
       "      <th>8</th>\n",
       "      <td>12698</td>\n",
       "      <td>Sorry, we can't find that practice. Make sure ...</td>\n",
       "    </tr>\n",
       "    <tr>\n",
       "      <th>9</th>\n",
       "      <td>12699</td>\n",
       "      <td>Payment Confirmation</td>\n",
       "    </tr>\n",
       "    <tr>\n",
       "      <th>10</th>\n",
       "      <td>12700</td>\n",
       "      <td>Payment Confirmation</td>\n",
       "    </tr>\n",
       "    <tr>\n",
       "      <th>11</th>\n",
       "      <td>12701</td>\n",
       "      <td>Payment Confirmation</td>\n",
       "    </tr>\n",
       "    <tr>\n",
       "      <th>12</th>\n",
       "      <td>12702</td>\n",
       "      <td>Chand Rohatgi MD</td>\n",
       "    </tr>\n",
       "    <tr>\n",
       "      <th>13</th>\n",
       "      <td>12703</td>\n",
       "      <td></td>\n",
       "    </tr>\n",
       "    <tr>\n",
       "      <th>14</th>\n",
       "      <td>12704</td>\n",
       "      <td>Volunteer Healthcare Clinic</td>\n",
       "    </tr>\n",
       "    <tr>\n",
       "      <th>15</th>\n",
       "      <td>12705</td>\n",
       "      <td>Christ Clinic</td>\n",
       "    </tr>\n",
       "    <tr>\n",
       "      <th>16</th>\n",
       "      <td>12706</td>\n",
       "      <td>Olga Joukovski, MD, PA</td>\n",
       "    </tr>\n",
       "    <tr>\n",
       "      <th>17</th>\n",
       "      <td>12707</td>\n",
       "      <td>Restore Health Clinic</td>\n",
       "    </tr>\n",
       "    <tr>\n",
       "      <th>18</th>\n",
       "      <td>12708</td>\n",
       "      <td>STUART L. SILVERMAN, M.D., A MEDICAL CORPORATION</td>\n",
       "    </tr>\n",
       "    <tr>\n",
       "      <th>19</th>\n",
       "      <td>12709</td>\n",
       "      <td>George E. Weems Clinics</td>\n",
       "    </tr>\n",
       "    <tr>\n",
       "      <th>20</th>\n",
       "      <td>12710</td>\n",
       "      <td>Sorry, we can't find that practice. Make sure ...</td>\n",
       "    </tr>\n",
       "  </tbody>\n",
       "</table>\n",
       "</div>"
      ],
      "text/plain": [
       "    clinic_id                                        clinic_name\n",
       "0       12690                               Payment Confirmation\n",
       "1       12691  Sorry, we can't find that practice. Make sure ...\n",
       "2       12692  Sorry, we can't find that practice. Make sure ...\n",
       "3       12693                          Altamonte Family Practice\n",
       "4       12694                            Open Health Care Clinic\n",
       "5       12695                             Dr. Richard Handelsman\n",
       "6       12696                Women's CenterforIntegrative Health\n",
       "7       12697                      Eastern Urological Associates\n",
       "8       12698  Sorry, we can't find that practice. Make sure ...\n",
       "9       12699                               Payment Confirmation\n",
       "10      12700                               Payment Confirmation\n",
       "11      12701                               Payment Confirmation\n",
       "12      12702                                   Chand Rohatgi MD\n",
       "13      12703                                                   \n",
       "14      12704                        Volunteer Healthcare Clinic\n",
       "15      12705                                      Christ Clinic\n",
       "16      12706                             Olga Joukovski, MD, PA\n",
       "17      12707                              Restore Health Clinic\n",
       "18      12708   STUART L. SILVERMAN, M.D., A MEDICAL CORPORATION\n",
       "19      12709                            George E. Weems Clinics\n",
       "20      12710  Sorry, we can't find that practice. Make sure ..."
      ]
     },
     "execution_count": 121,
     "metadata": {},
     "output_type": "execute_result"
    }
   ],
   "source": [
    "df"
   ]
  },
  {
   "cell_type": "code",
   "execution_count": 123,
   "id": "4e2a1661-29fb-4ee2-9877-8a51328a6c10",
   "metadata": {},
   "outputs": [],
   "source": [
    "df.to_csv('clinic_data.csv', index =False)"
   ]
  }
 ],
 "metadata": {
  "kernelspec": {
   "display_name": "Python 3 (ipykernel)",
   "language": "python",
   "name": "python3"
  },
  "language_info": {
   "codemirror_mode": {
    "name": "ipython",
    "version": 3
   },
   "file_extension": ".py",
   "mimetype": "text/x-python",
   "name": "python",
   "nbconvert_exporter": "python",
   "pygments_lexer": "ipython3",
   "version": "3.12.4"
  }
 },
 "nbformat": 4,
 "nbformat_minor": 5
}
